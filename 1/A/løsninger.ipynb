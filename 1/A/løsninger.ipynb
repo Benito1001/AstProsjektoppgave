{
 "cells": [
  {
   "cell_type": "markdown",
   "metadata": {},
   "source": [
    "# løsninger til oppgavene i 1A\n",
    "\n",
    "## A.1.1"
   ]
  },
  {
   "cell_type": "code",
   "execution_count": 8,
   "metadata": {},
   "outputs": [
    {
     "name": "stdout",
     "output_type": "stream",
     "text": [
      "0.6826893305001358\n"
     ]
    }
   ],
   "source": [
    "import numpy as np\n",
    "import matplotlib.pyplot as plt\n",
    "\n",
    "def normal(x, mean=0, stande=1):\n",
    "    return 1/(np.sqrt(2*np.pi)*stande)*np.exp(-0.5*((x-mean)/stande)**2)\n",
    "\n",
    "def get_probability(a, b, mean, stande):\n",
    "    x_ray = np.linspace(a, b, 1000)\n",
    "    return np.trapz(normal(x_ray, mean, stande), x_ray)"
   ]
  },
  {
   "cell_type": "markdown",
   "metadata": {},
   "source": [
    "## A.1.2"
   ]
  },
  {
   "cell_type": "code",
   "execution_count": 10,
   "metadata": {},
   "outputs": [
    {
     "name": "stdout",
     "output_type": "stream",
     "text": [
      "0.6826893305001358\n",
      "0.9544994475751287\n",
      "0.9973001240039705\n"
     ]
    }
   ],
   "source": [
    "mean = 0\n",
    "stande = 1\n",
    "\n",
    "for i in range(1, 4):\n",
    "    print(get_probability(mean-stande*i, mean+stande*i, mean, stande))"
   ]
  },
  {
   "cell_type": "markdown",
   "metadata": {},
   "source": []
  }
 ],
 "metadata": {
  "kernelspec": {
   "display_name": "Python 3",
   "language": "python",
   "name": "python3"
  },
  "language_info": {
   "codemirror_mode": {
    "name": "ipython",
    "version": 3
   },
   "file_extension": ".py",
   "mimetype": "text/x-python",
   "name": "python",
   "nbconvert_exporter": "python",
   "pygments_lexer": "ipython3",
   "version": "3.6.9"
  }
 },
 "nbformat": 4,
 "nbformat_minor": 2
}
