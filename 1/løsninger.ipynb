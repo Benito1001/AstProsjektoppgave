{
 "cells": [
  {
   "cell_type": "markdown",
   "metadata": {},
   "source": [
    "# løsninger til oppgavene i del 1 A\n",
    "\n",
    "## A.1.1"
   ]
  },
  {
   "cell_type": "code",
   "execution_count": 11,
   "metadata": {},
   "outputs": [],
   "source": [
    "import numpy as np\n",
    "import matplotlib.pyplot as plt\n",
    "\n",
    "def normal(x, mean=0, stande=1):\n",
    "    return 1/(np.sqrt(2*np.pi)*stande)*np.exp(-0.5*((x-mean)/stande)**2)\n",
    "\n",
    "def get_probability(a, b, mean, stande):\n",
    "    x_ray = np.linspace(a, b, 1000)\n",
    "    return np.trapz(normal(x_ray, mean, stande), x_ray)"
   ]
  },
  {
   "cell_type": "markdown",
   "metadata": {},
   "source": [
    "## A.1.2\n",
    "\n",
    "Sansyneligheten for at x befinner seg mellom a og b"
   ]
  },
  {
   "cell_type": "markdown",
   "metadata": {},
   "source": [
    "## A.1.3"
   ]
  },
  {
   "cell_type": "code",
   "execution_count": 10,
   "metadata": {},
   "outputs": [
    {
     "name": "stdout",
     "output_type": "stream",
     "text": [
      "0.6826893305001358\n",
      "0.9544994475751287\n",
      "0.9973001240039705\n"
     ]
    }
   ],
   "source": [
    "mean = 0\n",
    "stande = 1\n",
    "\n",
    "for i in range(1, 4):\n",
    "    print(get_probability(mean-stande*i, mean+stande*i, mean, stande))"
   ]
  },
  {
   "cell_type": "markdown",
   "metadata": {},
   "source": [
    "nice"
   ]
  },
  {
   "cell_type": "markdown",
   "metadata": {},
   "source": [
    "## A.1.4\n",
    "\n",
    "Toppunktet til en normalkurve er når $x=\\mu$. \"Half maximum\" er derfor $\\frac{f(\\mu)}{2}$ (hvor f(x) er normalfunksjonen). \"Half maximum\" er altså:\n",
    "$$\n",
    "\\frac{f(\\mu)}{2} = \\frac{1}{2}\\frac{1}{\\sqrt{2\\pi}\\sigma}e^{-\\frac{1}{2}\\left(\\frac{\\mu - \\mu}{\\sigma}\\right)^2}\n",
    "= \\frac{1}{2\\sqrt{2\\pi}\\sigma}\n",
    "$$\n",
    " \\\n",
    "Trenger så å finne x-verdien hvor x=\"Half maximum\", løser likningen $f(x) = \\frac{f(\\mu)}{2}$:\n",
    "\\begin{align*}\n",
    "    \\frac{1}{\\sqrt{2\\pi}\\sigma}e^{-\\frac{1}{2}\\left(\\frac{x-\\mu}{\\sigma}\\right)^2} &= \\frac{1}{2\\sqrt{2\\pi}\\sigma} \\\\\n",
    "    e^{-\\frac{1}{2}\\left(\\frac{x-\\mu}{\\sigma}\\right)^2} &= \\frac{1}{2} \\\\\n",
    "    -\\frac{1}{2}\\left(\\frac{x-\\mu}{\\sigma}\\right)^2 &= \\ln{\\frac{1}{2}} \\\\\n",
    "    \\left(\\frac{x-\\mu}{\\sigma}\\right)^2 &= 2\\ln{2} \\\\\n",
    "    \\left(x - \\mu\\right)^2 &= 2\\ln{2}\\sigma^2 \\\\\n",
    "    x - \\mu &= \\pm\\sigma\\sqrt{2\\ln{2}} \\\\\n",
    "    x &= \\underline{\\mu \\pm \\sigma\\sqrt{2\\ln{2}}} \\\\\n",
    "\\end{align*}\n",
    " \\\n",
    "\"Full width\" er max(x) - min(x):\n",
    "\\begin{align*}\n",
    "    &\\ \\ \\ \\ \\ (\\mu + \\sigma\\sqrt{2\\ln{2}}) - (\\mu - \\sigma\\sqrt{2\\ln{2}}) \\\\\n",
    "    &= \\sigma\\sqrt{2\\ln{2}} + \\sigma\\sqrt{2\\ln{2}} + \\mu - \\mu \\\\\n",
    "    &= \\underline{2\\sqrt{2\\ln{2}}\\sigma}\n",
    "\\end{align*}\n",
    " \\\n",
    "\"Full width\" for \"Half maximum\" er FWHM, altså er $\\text{FWHM} = 2\\sqrt{2\\ln{2}}\\sigma \\ \\ \\square$"
   ]
  },
  {
   "cell_type": "markdown",
   "metadata": {},
   "source": [
    "## A.3.1\n",
    "\n",
    "$\\left<v\\right> = \\int_0^{\\infty}vP(v)\\ dv$, $P(v) = \\left(\\sqrt{\\frac{m}{2\\pi k T}}\\right)^3 e^{-\\frac{1}{2}\\frac{m v^2}{k T}}4\\pi v^2$\n",
    "Løser integralet:\n",
    "\\begin{align*}\n",
    "    \\left<v\\right> &= \\int_0^{\\infty}v \\left( \\left(\\sqrt{\\frac{m}{2\\pi k T}}\\right)^3 e^{-\\frac{1}{2}\\frac{m v^2}{k T}}4\\pi v^2 \\right) dv \\\\\n",
    "    &= 4\\pi \\left(\\sqrt{\\frac{m}{2\\pi k T}}\\right)^3 \\frac{1}{2} \\int_0^{\\infty} e^{-\\frac{1}{2}\\frac{m u}{k T}} u\\ du \\\\\n",
    "    &= 4\\pi \\left(\\sqrt{\\frac{m}{2\\pi k T}}\\right)^3 \\frac{1}{2}\\int_0^{\\infty} ue^{-Cu}\\ du\\ \\text{, }\\ C = \\frac{1}{2}\\frac{m}{k T} \\\\\n",
    "    &= 4\\pi \\left(\\sqrt{\\frac{m}{2\\pi k T}}\\right)^3 \\frac{1}{2} \\frac{1}{C^2}\\int_0^{\\infty} te^{-t}\\ dt \\\\\n",
    "    &= 4\\pi \\left(\\sqrt{\\frac{m}{2\\pi k T}}\\right)^3 \\frac{1}{2} \\frac{1}{\\left(\\frac{1}{2}\\frac{m}{k T}\\right)^2} \\cdot 1 \\\\\n",
    "    &=\\sqrt{\\frac{8kT}{\\pi m}}\n",
    "\\end{align*}"
   ]
  },
  {
   "cell_type": "markdown",
   "metadata": {},
   "source": [
    "## A.3.2\n",
    "\n",
    "$P = \\frac{1}{3} \\int_0^{\\infty} pv\\ n(p)\\ dp$, $n(p) = nP(p) = n \\left( \\left(\\sqrt{\\frac{m}{2\\pi k T}}\\right)^3 e^{-\\frac{1}{2}\\frac{m p^2}{k T}}4\\pi p^2 \\right)$ \n",
    "\\begin{align*}\n",
    "   P &= \\frac{1}{3} \\int_0^{\\infty} p\\frac{p}{m}n\\left( \\left(\\sqrt{\\frac{m}{2\\pi k T}}\\right)^3 e^{-\\frac{1}{2}\\frac{m p^2}{k T}}4\\pi p^2 \\right) dp \\\\\n",
    "   &= \\frac{1}{3}\\frac{n}{m} \\left(\\sqrt{\\frac{m}{2\\pi k T}}\\right)^3 4\\pi \\int_0^{\\infty} p^4\\left( e^{-\\frac{1}{2}\\frac{m p^2}{k T}} \\right) dp \\\\\n",
    "   &= \\frac{1}{3}\\frac{n}{m} \\left(\\sqrt{\\frac{m}{2\\pi k T}}\\right)^3 4\\pi \\frac{1}{\\left(\\frac{1}{2}\\frac{m}{k T}\\right)^2} \\int_0^{\\infty} x^{3/2} e^{-x} dx\\ \\text{, }\\ x = \\frac{1}{2}\\frac{m p^2}{k T} \\\\\n",
    "   &= \\frac{1}{3}\\frac{n}{m} \\left(\\sqrt{\\frac{m}{2\\pi k T}}\\right)^3 4\\pi \\frac{1}{\\left(\\frac{1}{2}\\frac{m}{k T}\\right)^2} \\frac{3}{4}\\sqrt{\\pi} \\\\\n",
    "   &= 4\\pi \\left(\\sqrt{\\frac{m}{2\\pi k T}}\\right)^3 \\frac{1}{2} \\frac{1}{\\left(\\frac{1}{2}\\frac{m}{k T}\\right)^2} \\frac{1}{3}\\frac{n}{m}\\frac{3}{2}\\sqrt{\\pi} \\\\\n",
    "   &= \\sqrt{\\frac{8kT}{\\pi m}} \\frac{1}{3}\\frac{n}{m}\\frac{3}{2}\\sqrt{\\pi} \\\\\n",
    "   &= \\sqrt{\\frac{2nkT}{m^3}} = \\sqrt{\\frac{\\text{riktig}}{m^3}}\\\\\n",
    "\\end{align*}"
   ]
  },
  {
   "cell_type": "code",
   "execution_count": null,
   "metadata": {},
   "outputs": [],
   "source": []
  }
 ],
 "metadata": {
  "kernelspec": {
   "display_name": "Python 3",
   "language": "python",
   "name": "python3"
  },
  "language_info": {
   "codemirror_mode": {
    "name": "ipython",
    "version": 3
   },
   "file_extension": ".py",
   "mimetype": "text/x-python",
   "name": "python",
   "nbconvert_exporter": "python",
   "pygments_lexer": "ipython3",
   "version": "3.6.9"
  }
 },
 "nbformat": 4,
 "nbformat_minor": 2
}
